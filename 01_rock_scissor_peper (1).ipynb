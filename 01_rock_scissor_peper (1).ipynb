{
 "cells": [
  {
   "cell_type": "code",
   "execution_count": null,
   "metadata": {},
   "outputs": [],
   "source": [
    "import pandas as pd\n",
    "import seaborn as sns\n",
    "import matplotlib.pyplot as plt\n",
    "import numpy as np \n",
    "from tensorflow import keras\n",
    "\n",
    "from PIL import Image\n",
    "import glob\n",
    "import os\n",
    "rootPath = './aiffel/'\n",
    "from tensorflow.keras.preprocessing.image import ImageDataGenerator\n",
    "print(\"PIL 라이브러리 import 완료!\")\n",
    "imageGenerator = ImageDataGenerator(\n",
    "        rescale=1/255,\n",
    "        rotation_range=20,\n",
    "        width_shift_range=0.2,\n",
    "        height_shift_range=0.2,\n",
    "        shear_range=0.2,\n",
    "        zoom_range=0.2,\n",
    "        validation_split=.1,\n",
    "        horizontal_flip=True,\n",
    "        fill_mode='nearest')\n",
    "trainGen = imageGenerator.flow_from_directory(\n",
    "    os.path.join(rootPath, 'rock_scissor_paper'),\n",
    "    target_size=(100, 100),\n",
    "    subset='training'\n",
    ")\n",
    "validationGen = imageGenerator.flow_from_directory(\n",
    "    os.path.join(rootPath, 'rock_scissor_paper'),\n",
    "    target_size=(100, 100),\n",
    "    subset='validation'\n",
    ")\n",
    "testGen = imageGenerator.flow_from_directory(\n",
    "    os.path.join(rootPath, 'rock_scissor_paper'),\n",
    "    target_size=(100, 100),\n",
    "    subset='test'\n",
    ")\n",
    " \n",
    "fig = plt.figure(figsize=(10, 10))\n",
    "axs = []\n",
    "\n",
    " \n"
   ]
  },
  {
   "cell_type": "code",
   "execution_count": null,
   "metadata": {},
   "outputs": [],
   "source": [
    " \n",
    "print(trainGen[0])"
   ]
  },
  {
   "cell_type": "code",
   "execution_count": null,
   "metadata": {},
   "outputs": [],
   "source": [
    "print(validationGen[0])"
   ]
  },
  {
   "cell_type": "code",
   "execution_count": null,
   "metadata": {},
   "outputs": [],
   "source": [
    "\n",
    "# model을 직접 만들어 보세요.\n",
    "# Hint! model의 입력/출력부에 특히 유의해 주세요. \n",
    "# 가위바위보 데이터셋은 MNIST 데이터셋과 어떤 점이 달라졌나요?\n",
    "# [[YOUR CODE]]\n",
    " \n",
    "\n",
    "# X_test = X_test.reshape(X_test.shape[0], 784).astype('float32') / 255\n",
    "# Y_test = np_utils.to_categorical(Y_test, 10)\n",
    "\n",
    "\n",
    "model=keras.models.Sequential()\n",
    "\n",
    "model.add(keras.layers.Conv2D(64, (3,3), activation='relu', input_shape=(100,100,3)))\n",
    "model.add(keras.layers.MaxPool2D(2,2))\n",
    "model.add(keras.layers.Conv2D(64, (3,3), activation='relu'))\n",
    "model.add(keras.layers.MaxPooling2D((2,2)))\n",
    "model.add(keras.layers.Flatten())\n",
    "model.add(keras.layers.Dense(32, activation='relu'))\n",
    "model.add(keras.layers.Dense(3, activation='softmax'))\n",
    "\n",
    "\n",
    "model.summary()"
   ]
  },
  {
   "cell_type": "code",
   "execution_count": 22,
   "metadata": {},
   "outputs": [
    {
     "name": "stdout",
     "output_type": "stream",
     "text": [
      "Epoch 1/32\n",
      "4/3 [==================================] - ETA: 0s - loss: 0.4647 - acc: 0.7091WARNING:tensorflow:Your input ran out of data; interrupting training. Make sure that your dataset or generator can generate at least `steps_per_epoch * epochs` batches (in this case, 3.4375 batches). You may need to use the repeat() function when building your dataset.\n",
      "3/3 [==============================] - 1s 155ms/step - loss: 0.4647 - acc: 0.7091 - val_loss: 0.5628 - val_acc: 0.5000\n",
      "Epoch 2/32\n",
      "3/3 [==============================] - 0s 89ms/step - loss: 0.3662 - acc: 0.6818\n",
      "Epoch 3/32\n",
      "3/3 [==============================] - 0s 108ms/step - loss: 0.3514 - acc: 0.7636\n",
      "Epoch 4/32\n",
      "3/3 [==============================] - 0s 85ms/step - loss: 0.3111 - acc: 0.8182\n",
      "Epoch 5/32\n",
      "3/3 [==============================] - 0s 84ms/step - loss: 0.3262 - acc: 0.7818\n",
      "Epoch 6/32\n",
      "3/3 [==============================] - 0s 81ms/step - loss: 0.3374 - acc: 0.8182\n",
      "Epoch 7/32\n",
      "3/3 [==============================] - 0s 80ms/step - loss: 0.3316 - acc: 0.7909\n",
      "Epoch 8/32\n",
      "3/3 [==============================] - 0s 87ms/step - loss: 0.2759 - acc: 0.8091\n",
      "Epoch 9/32\n",
      "3/3 [==============================] - 0s 85ms/step - loss: 0.3015 - acc: 0.8273\n",
      "Epoch 10/32\n",
      "3/3 [==============================] - 0s 85ms/step - loss: 0.2633 - acc: 0.8636\n",
      "Epoch 11/32\n",
      "3/3 [==============================] - 0s 84ms/step - loss: 0.2589 - acc: 0.8636\n",
      "Epoch 12/32\n",
      "3/3 [==============================] - 0s 107ms/step - loss: 0.2484 - acc: 0.8273\n",
      "Epoch 13/32\n",
      "3/3 [==============================] - 0s 105ms/step - loss: 0.2504 - acc: 0.8545\n",
      "Epoch 14/32\n",
      "3/3 [==============================] - 0s 87ms/step - loss: 0.2477 - acc: 0.8455\n",
      "Epoch 15/32\n",
      "3/3 [==============================] - 0s 86ms/step - loss: 0.2187 - acc: 0.8636\n",
      "Epoch 16/32\n",
      "3/3 [==============================] - 0s 83ms/step - loss: 0.2449 - acc: 0.8182\n",
      "Epoch 17/32\n",
      "3/3 [==============================] - 0s 85ms/step - loss: 0.2126 - acc: 0.9000\n",
      "Epoch 18/32\n",
      "3/3 [==============================] - 0s 112ms/step - loss: 0.2993 - acc: 0.8000\n",
      "Epoch 19/32\n",
      "3/3 [==============================] - 0s 109ms/step - loss: 0.2661 - acc: 0.8091\n",
      "Epoch 20/32\n",
      "3/3 [==============================] - 0s 88ms/step - loss: 0.2988 - acc: 0.7909\n",
      "Epoch 21/32\n",
      "3/3 [==============================] - 0s 90ms/step - loss: 0.2695 - acc: 0.8364\n",
      "Epoch 22/32\n",
      "3/3 [==============================] - 0s 83ms/step - loss: 0.2627 - acc: 0.8455\n",
      "Epoch 23/32\n",
      "3/3 [==============================] - 0s 93ms/step - loss: 0.2564 - acc: 0.8364\n",
      "Epoch 24/32\n",
      "3/3 [==============================] - 0s 87ms/step - loss: 0.2255 - acc: 0.8818\n",
      "Epoch 25/32\n",
      "3/3 [==============================] - 0s 85ms/step - loss: 0.1828 - acc: 0.9273\n",
      "Epoch 26/32\n",
      "3/3 [==============================] - 0s 82ms/step - loss: 0.2448 - acc: 0.8455\n",
      "Epoch 27/32\n",
      "3/3 [==============================] - 0s 103ms/step - loss: 0.2316 - acc: 0.8545\n",
      "Epoch 28/32\n",
      "3/3 [==============================] - 0s 85ms/step - loss: 0.1895 - acc: 0.9000\n",
      "Epoch 29/32\n",
      "3/3 [==============================] - 0s 84ms/step - loss: 0.2105 - acc: 0.8636\n",
      "Epoch 30/32\n",
      "3/3 [==============================] - 0s 107ms/step - loss: 0.2074 - acc: 0.8636\n",
      "Epoch 31/32\n",
      "3/3 [==============================] - 0s 84ms/step - loss: 0.2682 - acc: 0.8818\n",
      "Epoch 32/32\n",
      "3/3 [==============================] - 0s 89ms/step - loss: 0.2168 - acc: 0.8818\n"
     ]
    }
   ],
   "source": [
    "model.compile(\n",
    "    optimizer='adam',\n",
    "    loss='binary_crossentropy', \n",
    "    metrics=['acc'],\n",
    ")\n",
    "epochsnum=150\n",
    "epochs = 32\n",
    "history = model.fit_generator(\n",
    "    trainGen, \n",
    "    epochs=epochs,\n",
    "    steps_per_epoch=trainGen.samples / epochs, \n",
    "    validation_data=validationGen,\n",
    "    validation_steps=trainGen.samples / epochs,\n",
    ")\n",
    "\n",
    "\n",
    " "
   ]
  },
  {
   "cell_type": "code",
   "execution_count": 25,
   "metadata": {},
   "outputs": [
    {
     "name": "stdout",
     "output_type": "stream",
     "text": [
      "1/1 [==============================] - 0s 55ms/step - loss: 0.3904 - acc: 0.7000\n",
      "test_loss: 0.3904404044151306 \n",
      "test_accuracy: 0.699999988079071\n"
     ]
    }
   ],
   "source": [
    "\n",
    "test_loss, test_accuracy = model.evaluate(testGen)\n",
    "print(\"test_loss: {} \".format(test_loss))\n",
    "print(\"test_accuracy: {}\".format(test_accuracy))"
   ]
  },
  {
   "cell_type": "code",
   "execution_count": null,
   "metadata": {},
   "outputs": [],
   "source": [
    "pred = model.predict(validationGen) \n",
    "pred_list = []\n",
    "for i in range(len(pred)):\n",
    "    pred_list.append(np.argmax(pred[i]))\n",
    "\n",
    "print(pred_list)"
   ]
  },
  {
   "cell_type": "code",
   "execution_count": null,
   "metadata": {},
   "outputs": [],
   "source": []
  }
 ],
 "metadata": {
  "kernelspec": {
   "display_name": "Python 3 (ipykernel)",
   "language": "python",
   "name": "python3"
  },
  "language_info": {
   "codemirror_mode": {
    "name": "ipython",
    "version": 3
   },
   "file_extension": ".py",
   "mimetype": "text/x-python",
   "name": "python",
   "nbconvert_exporter": "python",
   "pygments_lexer": "ipython3",
   "version": "3.9.7"
  }
 },
 "nbformat": 4,
 "nbformat_minor": 2
}
